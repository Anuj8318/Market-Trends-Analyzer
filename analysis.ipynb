{
 "cells": [
  {
   "cell_type": "code",
   "execution_count": 2,
   "metadata": {},
   "outputs": [],
   "source": [
    "import mysql.connector as my  # Import the MySQL connector\n",
    "from dotenv import load_dotenv\n",
    "import os\n",
    "# Load environment variables from .env file\n",
    "load_dotenv()\n",
    "\n",
    "# Fetch database credentials from environment variables\n",
    "db_host = os.getenv(\"DB_HOST\")\n",
    "db_user = os.getenv(\"DB_USER\")\n",
    "db_password = os.getenv(\"DB_PASSWORD\")\n",
    "db_name = os.getenv(\"DB_NAME\")\n",
    "\n",
    "connection = my.connect(\n",
    "    host=db_host,\n",
    "    user=db_user,\n",
    "    password=db_password,\n",
    "    database=db_name\n",
    ")"
   ]
  },
  {
   "cell_type": "code",
   "execution_count": 3,
   "metadata": {},
   "outputs": [],
   "source": [
    "# Create a cursor object to execute SQL queries\n",
    "cursor = connection.cursor()"
   ]
  },
  {
   "cell_type": "code",
   "execution_count": 4,
   "metadata": {},
   "outputs": [],
   "source": [
    "import pandas as pd\n",
    "# Query data from the 'customer' table\n",
    "cursor.execute('SELECT * FROM customer')\n",
    " #After fetching data from the database we are storing it into Pandas DataFrame\n",
    "customer_data = pd.DataFrame(cursor.fetchall(), columns=[desc[0] for desc in\n",
    " cursor.description])\n",
    " # Query data from the 'product' table\n",
    "cursor.execute('SELECT * FROM product')\n",
    "product_data = pd.DataFrame(cursor.fetchall(), columns=[desc[0] for desc in\n",
    "cursor.description])\n",
    " # Query data from the 'order_details' table\n",
    "cursor.execute('SELECT * FROM orders')\n",
    "order_data = pd.DataFrame(cursor.fetchall(), columns=[desc[0] for desc in\n",
    "cursor.description])\n",
    " #printing first 5 records from each table"
   ]
  },
  {
   "cell_type": "code",
   "execution_count": 5,
   "metadata": {},
   "outputs": [
    {
     "name": "stdout",
     "output_type": "stream",
     "text": [
      "  customer_id        name     city                  email    phone_no  \\\n",
      "0    CUST0001  Customer 1  Chicago  customer1@example.com  1785014047   \n",
      "1    CUST0002  Customer 2  Phoenix  customer2@example.com  2882940227   \n",
      "2    CUST0003  Customer 3  Houston  customer3@example.com  4062157789   \n",
      "3    CUST0004  Customer 4  Chicago  customer4@example.com  8729546243   \n",
      "4    CUST0005  Customer 5  Chicago  customer5@example.com  8135387695   \n",
      "\n",
      "       address  pin_code  \n",
      "0  996 Main St     20021  \n",
      "1  441 Main St     53492  \n",
      "2  187 Main St     30487  \n",
      "3  156 Main St     76466  \n",
      "4  591 Main St     23771  \n"
     ]
    }
   ],
   "source": [
    "print(customer_data.head())"
   ]
  },
  {
   "cell_type": "code",
   "execution_count": 6,
   "metadata": {},
   "outputs": [
    {
     "name": "stdout",
     "output_type": "stream",
     "text": [
      "  product_id product_name        category sub_category  original_price  \\\n",
      "0   PROD0001    Product 1  Home & Kitchen   Appliances          915.81   \n",
      "1   PROD0002    Product 2          Sports   Appliances          851.54   \n",
      "2   PROD0003    Product 3           Books   Appliances          454.96   \n",
      "3   PROD0004    Product 4          Sports    Equipment          104.46   \n",
      "4   PROD0005    Product 5          Sports      Fiction          377.11   \n",
      "\n",
      "   selling_price  stock  \n",
      "0         888.64     10  \n",
      "1         826.78     91  \n",
      "2         420.03     56  \n",
      "3          90.26     88  \n",
      "4         364.15     49  \n"
     ]
    }
   ],
   "source": [
    "print(product_data.head())"
   ]
  },
  {
   "cell_type": "code",
   "execution_count": 7,
   "metadata": {},
   "outputs": [
    {
     "name": "stdout",
     "output_type": "stream",
     "text": [
      "   order_id customer_id product_id  quantity total_price      payment_mode  \\\n",
      "0         1    CUST0052   PROD0009         1      562.53       Credit Card   \n",
      "1         2    CUST0093   PROD0037         8      789.12            PayPal   \n",
      "2         3    CUST0015   PROD0033         1      867.09       Credit Card   \n",
      "3         4    CUST0072   PROD0042         9     3485.25            PayPal   \n",
      "4         5    CUST0061   PROD0044         6     3469.98  Cash on Delivery   \n",
      "\n",
      "   order_date order_status  \n",
      "0  2022-01-01      Pending  \n",
      "1  2022-01-02      Pending  \n",
      "2  2022-01-03      Shipped  \n",
      "3  2022-01-04      Shipped  \n",
      "4  2022-01-05    Cancelled  \n"
     ]
    }
   ],
   "source": [
    "print(order_data.head())"
   ]
  },
  {
   "cell_type": "markdown",
   "metadata": {},
   "source": [
    "Data Cleaning:"
   ]
  },
  {
   "cell_type": "code",
   "execution_count": 13,
   "metadata": {},
   "outputs": [
    {
     "name": "stdout",
     "output_type": "stream",
     "text": [
      "\n",
      " Missing value in the customer data \n",
      "customer_id    0\n",
      "name           0\n",
      "city           0\n",
      "email          0\n",
      "phone_no       0\n",
      "address        0\n",
      "pin_code       0\n",
      "dtype: int64\n",
      "\n",
      " Missing value in the product data \n",
      "product_id        0\n",
      "product_name      0\n",
      "category          0\n",
      "sub_category      0\n",
      "original_price    0\n",
      "selling_price     0\n",
      "stock             0\n",
      "dtype: int64\n",
      "\n",
      " Missing value in the order data \n",
      "order_id        0\n",
      "customer_id     0\n",
      "product_id      0\n",
      "quantity        0\n",
      "total_price     0\n",
      "payment_mode    0\n",
      "order_date      0\n",
      "order_status    0\n",
      "dtype: int64\n"
     ]
    }
   ],
   "source": [
    "# Checkformissing values in each table.\n",
    "print(\"\\n Missing value in the customer data \")\n",
    "print(customer_data.isnull().sum())\n",
    "print(\"\\n Missing value in the product data \")\n",
    "print(product_data.isnull().sum())\n",
    "print(\"\\n Missing value in the order data \")\n",
    "print(order_data.isnull().sum())"
   ]
  },
  {
   "cell_type": "code",
   "execution_count": 14,
   "metadata": {},
   "outputs": [
    {
     "name": "stdout",
     "output_type": "stream",
     "text": [
      "\n",
      "Data types in Customers Data:\n",
      "customer_id    object\n",
      "name           object\n",
      "city           object\n",
      "email          object\n",
      "phone_no       object\n",
      "address        object\n",
      "pin_code        int64\n",
      "dtype: object\n",
      "\n",
      "Data types in product Data:\n",
      "product_id         object\n",
      "product_name       object\n",
      "category           object\n",
      "sub_category       object\n",
      "original_price    float64\n",
      "selling_price     float64\n",
      "stock               int64\n",
      "dtype: object\n",
      "\n",
      "Data types in order Data:\n",
      "order_id         int64\n",
      "customer_id     object\n",
      "product_id      object\n",
      "quantity         int64\n",
      "total_price     object\n",
      "payment_mode    object\n",
      "order_date      object\n",
      "order_status    object\n",
      "dtype: object\n"
     ]
    }
   ],
   "source": [
    "# 2. Ensuring Appropriate Data Types\n",
    "print(\"\\nData types in Customers Data:\")\n",
    "print(customer_data.dtypes)\n",
    "print(\"\\nData types in product Data:\")\n",
    "print(product_data.dtypes)\n",
    "print(\"\\nData types in order Data:\")\n",
    "print(order_data.dtypes)"
   ]
  },
  {
   "cell_type": "code",
   "execution_count": null,
   "metadata": {},
   "outputs": [],
   "source": []
  }
 ],
 "metadata": {
  "kernelspec": {
   "display_name": "base",
   "language": "python",
   "name": "python3"
  },
  "language_info": {
   "codemirror_mode": {
    "name": "ipython",
    "version": 3
   },
   "file_extension": ".py",
   "mimetype": "text/x-python",
   "name": "python",
   "nbconvert_exporter": "python",
   "pygments_lexer": "ipython3",
   "version": "3.11.5"
  }
 },
 "nbformat": 4,
 "nbformat_minor": 2
}
